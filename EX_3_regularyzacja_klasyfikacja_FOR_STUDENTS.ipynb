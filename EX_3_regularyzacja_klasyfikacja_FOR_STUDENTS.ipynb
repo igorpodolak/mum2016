{
 "cells": [
  {
   "cell_type": "markdown",
   "metadata": {},
   "source": [
    "# Regularyzacja"
   ]
  },
  {
   "cell_type": "markdown",
   "metadata": {},
   "source": [
    "#### Zadania:\n",
    "1. Proszę załadować z sklearna zbiór **diabetes** i podzielić go na część testową i trenującą\n",
    "2. Proszę załadować z sklearna zbiór **boston** i podzielić go jw.\n",
    "3. Proszę zainicjalizować regresję liniową z sklearna (**sklearn.linear_model.LinearRegression**) z domyślnymi parametrami i nauczyć na zbiorze trenującym.\n",
    "4. Następnie proszę wypisać **MSE** oraz sklearnowy score (**estimator.score(X_te, y_te)**) na nauczonym modelu.\n",
    "5. Proszę zainicjalizować sklearnową regresję z normalizacją L2 (**sklearn.linear_model.Ridge**) z różnymi wartościami alpha (przedział mniej więcej $10^{-4}...0.5$, około ośmiu wartości starczy)\n",
    "6. Dla każdej wartości alpha należy wyliczyć **MSE**, sklearnowy score oraz zapisać jakie były współczynniki modelu po nauczeniu (**coefs_**).\n",
    "7. Proszę narysować wykres pokazujący, jak zmieniał się **MSE** w zależności od wartości **alpha**\n",
    "8. Proszę narysować wykres pokazujący, jak zmieniał się sklearnowy score w zależności od wartości **alpha**\n",
    "9. Proszę narysować wykres pokazujący, jak zmieniały się wartości współczynników dobranych przez model w zależności od **alpha**\n",
    "10. Proszę porównać **MSE** zwrócony przez zwykłą regresję liniową i te zwrócone przez regresję z normalizacją\n",
    "11. Proszę wykonać kroki 5-10, ale dla Lasso (**sklearn.linear_model.Lasso**).\n",
    "12. Punkty 3-10 proszę wykonać zarówno na zbiorze diabetes jak i na zbiorze boston\n",
    "13. Jakie wnioski można wyciągnąć z wykresów wygenerowanych w punktach 7 - 9 (dla **Ridge** i dla **Lasso**)?"
   ]
  },
  {
   "cell_type": "code",
   "execution_count": null,
   "metadata": {
    "collapsed": false
   },
   "outputs": [],
   "source": [
    "from sklearn import datasets\n",
    "from sklearn import linear_model\n",
    "import numpy as np\n",
    "%matplotlib inline\n",
    "import matplotlib.pyplot as plt"
   ]
  },
  {
   "cell_type": "markdown",
   "metadata": {},
   "source": [
    "# Klasyfikacja"
   ]
  },
  {
   "cell_type": "markdown",
   "metadata": {},
   "source": [
    "#### Zadania:\n",
    "1. Proszę załadować z sklearna zbiór **breast cancer** i podzielić go na część trenującą i testującą\n",
    " #### Można potraktować klasy jako wartości i wtedy potraktować zbiór regresją liniową.\n",
    "2. Proszę ponownie sprawdzić zachowanie zwykłej **regresji liniowej, regresji liniowej z normalizacją i lasso**, tym razem na zbiorze **breast cancer** (czyli punkty 3 do 9 z poprzedniego zadania :) )\n",
    "  #### Ale istnieją też metody specjalnie zaprojektowane do klasyfikacji.\n",
    "  #### Linear Discriminant Analysis (**sklearn.discriminant_analysis.LinearDiscriminantAnalysis**)\n",
    "3. Proszę zainicjować **LDA** z domyślnymi parametrami, wyliczyć **MSE** i sklearnowy score\n",
    "  #### Quadratic Discriminant Analysis (**sklearn.discriminant_analysis.QuadraticDiscriminantAnalysis**)\n",
    "4. Proszę zainicjować **QDA** z różnymi wartościami **reg_param** (dodatnie, kilka wartości od 0.0 do 0.1) i narysować wykresy zależności **MSE** oraz sklearnowego score'a od wartości **reg_param**.\n",
    "5. Proszę porównać wartości **MSE** zwracane przez regresje (klasyczną i z normalizacją) oraz przez **LDA** i **QDA** (QDA oczywiście zwróci tyle różnych MSE, ile różnych modeli wypróbujemy)"
   ]
  },
  {
   "cell_type": "code",
   "execution_count": null,
   "metadata": {
    "collapsed": false
   },
   "outputs": [],
   "source": [
    "from sklearn.discriminant_analysis import LinearDiscriminantAnalysis\n",
    "from sklearn.discriminant_analysis import QuadraticDiscriminantAnalysis"
   ]
  }
 ],
 "metadata": {
  "kernelspec": {
   "display_name": "Python 2",
   "language": "python",
   "name": "python2"
  },
  "language_info": {
   "codemirror_mode": {
    "name": "ipython",
    "version": 2
   },
   "file_extension": ".py",
   "mimetype": "text/x-python",
   "name": "python",
   "nbconvert_exporter": "python",
   "pygments_lexer": "ipython2",
   "version": "2.7.11"
  }
 },
 "nbformat": 4,
 "nbformat_minor": 0
}
