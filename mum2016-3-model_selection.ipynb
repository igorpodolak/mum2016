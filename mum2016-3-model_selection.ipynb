{
 "cells": [
  {
   "cell_type": "markdown",
   "metadata": {},
   "source": [
    "# Złożoność i wybór modelu"
   ]
  },
  {
   "cell_type": "markdown",
   "metadata": {},
   "source": [
    "<h1 id=tocheading>Spis treści</h1>\n",
    "<div id=\"toc\"></div>"
   ]
  },
  {
   "cell_type": "code",
   "execution_count": null,
   "metadata": {
    "collapsed": true
   },
   "outputs": [],
   "source": []
  },
  {
   "cell_type": "code",
   "execution_count": 1,
   "metadata": {
    "collapsed": false
   },
   "outputs": [
    {
     "data": {
      "application/javascript": [
       "$.getScript('https://kmahelona.github.io/ipython_notebook_goodies/ipython_notebook_toc.js')"
      ],
      "text/plain": [
       "<IPython.core.display.Javascript object>"
      ]
     },
     "metadata": {},
     "output_type": "display_data"
    }
   ],
   "source": [
    "%%javascript\n",
    "$.getScript('https://kmahelona.github.io/ipython_notebook_goodies/ipython_notebook_toc.js')"
   ]
  },
  {
   "cell_type": "code",
   "execution_count": 2,
   "metadata": {
    "collapsed": true
   },
   "outputs": [],
   "source": [
    "%matplotlib inline\n",
    "import matplotlib.pyplot as plt"
   ]
  },
  {
   "cell_type": "code",
   "execution_count": 3,
   "metadata": {
    "collapsed": true
   },
   "outputs": [],
   "source": [
    "import numpy as np\n",
    "from sklearn.cross_validation import StratifiedKFold, KFold, train_test_split\n",
    "from sklearn.datasets import load_svmlight_file\n",
    "from sklearn.metrics import roc_auc_score, f1_score, accuracy_score\n",
    "from sklearn.metrics import classification_report, matthews_corrcoef, confusion_matrix\n",
    "from sklearn import preprocessing"
   ]
  },
  {
   "cell_type": "code",
   "execution_count": 9,
   "metadata": {
    "collapsed": true
   },
   "outputs": [],
   "source": [
    "from sklearn.datasets import load_boston, load_diabetes, load_linnerud, make_regression, make_s_curve\n",
    "from sklearn.datasets import make_friedman1, make_friedman2, make_friedman3, make_sparse_uncorrelated\n",
    "from sklearn.linear_model import LinearRegression, SGDRegressor\n",
    "from sklearn.cross_validation import cross_val_predict, KFold, StratifiedKFold\n",
    "from sklearn.utils import resample\n",
    "from sklearn.metrics import accuracy_score, mean_squared_error"
   ]
  },
  {
   "cell_type": "code",
   "execution_count": 5,
   "metadata": {
    "collapsed": true
   },
   "outputs": [],
   "source": [
    "from astroML.datasets import fetch_imaging_sample\n",
    "from sklearn.preprocessing import PolynomialFeatures\n",
    "from astroML.cosmology import Cosmology\n",
    "from astroML.datasets import generate_mu_z"
   ]
  },
  {
   "cell_type": "markdown",
   "metadata": {
    "collapsed": true
   },
   "source": [
    "## Błąd testujący i bład uczenia\n",
    "\n",
    "* __Generalizacja__ określa jak dobrze model będzie sobie radził na danych, których __nie__ widział w trakcie uczenia\n",
    "  * potrzebujemy metod, które\n",
    "    1. określać jakość modeli\n",
    "    * porównywać modele\n",
    "    * wybierać najlepszy model dla zadanego problemu\n",
    "      * to dotyczy zarówno typu modelu jak i wyboru parametrów\n",
    "    * oceniać końcowy błąd wybranego modelu\n",
    "    * oceniać złożoność modelu\n",
    "    \n",
    "    \n",
    "* __funkcja kosztu__ (__loss function__) jest miarą błędu jaki model popełnia, na przykład funkcja kwadratowa $$L(Y, \\hat{f}(X)) = (Y-\\hat{f}(X))^2$$\n",
    "* funkcja $\\hat{f}$ została nauczona na danych __trenujących__\n",
    "  * funkcja kwadratowa jest szeroko używana w zadaniu regresji, ale są dla niego także inne wybory\n",
    "  * dla klasyfikacji jest wiele innych opcji\n",
    "  \n",
    "  \n",
    "* błąd __testujący__ (albo __generalizacji__) to błąd predykcji (regresji) modelu (nauczonego na zbiorze $\\mathcal{T}$) na __ustalonej niależnej__ próbce danych $$Err_\\mathcal{T}=E[L(Y, \\hat{f}(X))|\\mathcal{T}]]$$\n",
    "* __oczekiwany błąd predykcji__ to $$Err=E[L(Y, \\hat{f}(X))]=E[Err_\\mathcal{T}]$$\n",
    "  * to wartość oczekiwana po wszelkich zbiorach uczących (a wobec tego po wszelkich $\\hat{f}$) i zbiorach testujących\n",
    "  * będziemy potrzebowali odpowiedniej procedury by estymować $Err$ i wybrać minimalizujący go model\n",
    "* błąd __uczenia__ to średni koszt dla zbioru czącego $$err=\\frac{1}{N}\\sum_i L(Y, \\hat{f}(X))$$\n",
    "  * błąd trenujący __nie jest__ dobrym przybliżeniem błędu predykcji!\n",
    "  \n",
    "  \n",
    "* podobnie dla innych rodzajów błędów\n",
    "  \n",
    "   \n",
    "\n",
    "* typowym problemem jest __brak danych__\n",
    "  * jesli danych jest bardzo dużo, to można rozdzielić dane na \n",
    "    1. __uczące__: dla nauczania\n",
    "    * __walidujące__: dla wyboru optymalnych parametrów\n",
    "    * __testujące__: dla sprawdzania błędu generalizacji"
   ]
  },
  {
   "cell_type": "markdown",
   "metadata": {},
   "source": [
    "## Podział błędu na odchylenie i wariancję (bias-variance decomposition)\n",
    "\n",
    "* dane pochodzą z procesu pomiaru, są wobec tego obarczone __nieusuwalnym błędem__ $\\epsilon$ $$y_i=f(x_i)+\\epsilon$$\n",
    "  * prawdziwa (true) funkcja $f$ jest nieznana\n",
    "  * o błędzie można założyć, że $E[\\epsilon]=0$ oraz $E[\\epsilon^2]=\\sigma^2$\n",
    "  \n",
    "  \n",
    "* zakładamy, że $L()$ jest __kwadratowa__\n",
    "$$\\begin{align}\n",
    "Err(x)&=E[L(Y, \\hat{f}(X))|X=x]=E[(y-\\hat{f}(x))^2]\\\\\n",
    "&=E[(f(x)+\\epsilon-\\hat{f}(x))^2]=E[(f(x)-\\hat{f}(x)+\\epsilon)^2]\\\\\n",
    "&=E[(f(x)-\\hat{f}(x))^2]+E[2\\epsilon(f(x)-\\hat{f}(x))]+E[\\epsilon^2]&\\text{błąd $\\epsilon$ jest nieskorelowany z błędem predykcji}\\\\\n",
    "&=E[(f(x)-\\hat{f}(x))^2]+E[\\epsilon^2]\\\\\n",
    "\\\\\n",
    "&=E\\left[\\left(f(x)-E[\\hat{f}(x)]+E[\\hat{f}(x)]-\\hat{f}(x)\\right)^2\\right]+E\\left[\\epsilon^2\\right]\\\\\n",
    "\\\\\n",
    "&=E\\left[\\left(f(x)-E[\\hat{f}(x)]\\right)^2\\right]\\\\\n",
    "&+E\\left[\\left(f(x)-E[\\hat{f}(x)]\\right)\\left(E[\\hat{f}(x)]-\\hat{f}(x)\\right)\\right]&\\text{błedy są znowu nieskorelowane}\\\\\n",
    "&+E\\left[\\left(E[\\hat{f}(x)]-\\hat{f}(x)\\right)^2\\right]+E\\left[\\epsilon^2\\right]\\\\\n",
    "\\\\\n",
    "&=\\underbrace{E\\left[\\left(f(x)-E[\\hat{f}(x)]\\right)^2\\right]}_{\\text{bias}^2}\n",
    "+\\underbrace{E\\left[\\left(E[\\hat{f}(x)]-\\hat{f}(x)\\right)^2\\right]}_{\\text{wariancja modelu}}\n",
    "+\\underbrace{E\\left[\\epsilon^2\\right]}_{\\text{szum danych}}\n",
    "\\end{align}$$\n",
    "\n",
    "* __bias$^2$__: to suma kwadratów różnic między wartością prawdziwej (ale nieznanej) funkcji $f()$ a wartością oczekiwaną estymacji,\n",
    "* __wariancja modelu__: (czasem __błąd estymacji__) używając różnych zbiorów uczących, różnych parametrów modelu, różnych punktów startu (w algorytmach iteracyjnych) możemy dostać różne dofitowania modelu, a stąd modele będą miały pewną wariancję wokół wartości średniej\n",
    "* __szum danych__: jest niezależny od procesu uczenia; zwykle jest to biały szum\n",
    "\n",
    "\n",
    "\n",
    "* rozkład błędu pozwala na wyciągnięcie wniosków o uczeniu\n",
    "  * oczekujemy, że model bedzie __maksymalnie prosty__\n",
    "    * wtedy jednak możliwy jest wysoki bias, gdy model jest __prostszy__ od rzeczywistych danych (estymacja wielomiany prostą)\n",
    "    * bias można zredukować przez zwiększenie przestrzeni dostępnych funkcji\n",
    "    * modele w których bias przeważa często \"__underfitują__\"\n",
    "      * zwykle na początku uczenia model jest zwykle bardzo prosty, ma duzy błąd a bias przeważa nad wariancję\n",
    "  * jednocześnie chcemy, by model dobrze się __dostosowywał__\n",
    "    * wtedy może mieć wysoką wariancję\n",
    "      * podczas procesu uczenia  model coraz lepiej dostosowuje się, bias i błąd spadają\n",
    "      * błąd dla zbioru trenującego stale maleje\n",
    "      * jednak wariancja (dla różnych modeli) zaczyna wzrastać i nie ma pewności czy model bedzie dobrze generalizował\n",
    "      * modele z przewagą wariancji często \"__przefitowują__\"\n",
    "      * modele z ograniczoną przestrzenią funkcji (np. ridge, lasso) dają niską wariancję\n",
    "  * rozwiązania?\n",
    "    * uczenie należy przerwać wcześniej nim osiągnie minimalny błąd\n",
    "      * metoda wczesnego zatrzymywania (early stopping)\n",
    "      * kontrola za pomocą zbioru walidacyjnego\n",
    "      * metoda walidacji krzyżowej\n",
    "    \n",
    "\n",
    "\n",
    "\n",
    "* analogiczne rozumowanie dla innych funkcji kosztu nie jest oczywiste\n",
    "  * Domingos zaproponował ostatnio rozwinięcie do "
   ]
  },
  {
   "cell_type": "code",
   "execution_count": 188,
   "metadata": {
    "collapsed": true
   },
   "outputs": [],
   "source": [
    "from itertools import combinations"
   ]
  },
  {
   "cell_type": "code",
   "execution_count": 231,
   "metadata": {
    "collapsed": false
   },
   "outputs": [],
   "source": [
    "def bootstrap_linear_approximations(models=10, n_samples=100, noise=0.5):\n",
    "    X = np.random.uniform(-5, +5, [n_samples, 1])\n",
    "    #X = np.linspace(-5, 5, 100).reshape((100, 1))\n",
    "    t0 = 0.25; t1 = 0.02; t2 = 0.04; t3 = 0.04\n",
    "    y_true =  (0.25 + t1 * X + t2 * X**2 + t3 * X**3).reshape((n_samples,))\n",
    "    if noise > 0.:\n",
    "        y = y_true + np.random.normal(scale=noise, size=len(y_true))\n",
    "    else:\n",
    "        y = y_true\n",
    "    #print 'X.shape = {}, y_true.shape = {}, y.shape = {}'.format(X.shape, y_true.shape, y.shape)\n",
    "    #print X\n",
    "    #print y_true\n",
    "    #print y\n",
    "    y_noise = np.sum((y - y_true) ** 2) / n_samples\n",
    "    \n",
    "    fig, ax = plt.subplots(figsize=(18, 8))\n",
    "    xmin, xmax = min(X), max(X)\n",
    "    ymin, ymax = min(y), max(y)\n",
    "    x_range = np.linspace(xmin, xmax, 100)\n",
    "    ax.plot(X, y, 'r*')\n",
    "    ax.plot(X, y_true, 'g*')\n",
    "    ax.grid()\n",
    "    #ax.plot(x_range, x_range * theta_data[1] + theta_data[0], 'k-')\n",
    "    ax.set_xlim(xmin, xmax)\n",
    "    ax.set_ylim(ymin, ymax)\n",
    "    \n",
    "    theta = np.zeros((models, 2))\n",
    "    predicted_all = np.zeros((models, len(y)))\n",
    "    #print np.mean(y)\n",
    "    print '\\tnoise\\t  variance\\t  bias\\t\\t  mse\\n{}'.format('-' * 70)\n",
    "    for k in range(models):\n",
    "        X_train, y_train = resample(X, y)\n",
    "        clr = LinearRegression()\n",
    "        clr.fit(X_train, y_train)\n",
    "        predicted = clr.predict(X)\n",
    "        predicted_all[k, :] = predicted\n",
    "        theta_fit = [np.mean(predicted), clr.coef_]\n",
    "        ax.plot(x_range, x_range * theta_fit[1] + theta_fit[0], lw=1)\n",
    "        theta[k, :] = theta_fit\n",
    "        y_fit_mean = np.mean(predicted)\n",
    "        var = np.sum((y - y_fit_mean) ** 2) / n_samples\n",
    "        bias_squared = np.sum((y_true - y_fit_mean) ** 2) / n_samples\n",
    "        mse = y_noise + var + bias_squared\n",
    "        err = np.sum((y - predicted) ** 2) / n_samples\n",
    "        #print '{}: \\t{}\\t+ {}\\t+ {}\\t= {}'.format(k, np.round(y_noise, 4), np.round(var, 4), \n",
    "        #                                             np.round(bias_squared, 4), np.round(mse, 4))\n",
    "        \n",
    "    theta_mean = np.mean(theta, 0)\n",
    "    ax.plot(x_range, x_range * theta_mean[1] + theta_mean[0], 'k-', lw=5)\n",
    "    # teraz licze oczekiwana wartosc obliczonej funkcji\n",
    "    y_ens_fit = np.mean(predicted_all, 0)\n",
    "    y_ens_fit_mean = np.mean(y_ens_fit)\n",
    "    var = 0\n",
    "    for m in range(models):\n",
    "        var = np.sum((y_ens_fit - predicted_all[m, ]) ** 2)\n",
    "    var /=  models * n_samples ** 2\n",
    "    # var = np.sum((y_ens_fit - y_ens_fit_mean) ** 2) / (n_samples ** 2)\n",
    "    bias_squared = np.sum((y_true - y_ens_fit) ** 2) / n_samples\n",
    "    mse = y_noise + var + bias_squared\n",
    "    err = np.sum((y_true - y_ens_fit) ** 2) / n_samples\n",
    "    print '{}: \\t{}\\t+ {}\\t+ {}\\t= {}'.format('ens', np.round(y_noise, 4), np.round(var, 4), \n",
    "                                                  np.round(bias_squared, 4), np.round(mse, 4))\n",
    "    \n",
    "    compute_ensembles = True\n",
    "    if compute_ensembles:\n",
    "        max_models = 100\n",
    "        for k in range(1, models):\n",
    "            comb = [c for c in combinations(range(models), k)]\n",
    "            # select max_models indices\n",
    "            ind = list(np.random.choice(len(comb), max(max_models, len(comb))))\n",
    "            var_ens = 0\n",
    "            bias_squared_ens = 0\n",
    "            mse_ens = 0\n",
    "            for q in ind:\n",
    "                p = comb[q]\n",
    "                y_ens_fit = np.mean(predicted_all[p, ], 0)\n",
    "                y_ens_fit_mean = np.mean(y_ens_fit)\n",
    "                var = 0\n",
    "                for m in p:\n",
    "                    var = np.sum((y_ens_fit - predicted_all[m, ]) ** 2)\n",
    "                var /=  len(p) * n_samples ** 2\n",
    "                var_ens += var / len(p)\n",
    "                bias_squared = np.sum((y_true - y_ens_fit) ** 2) / n_samples\n",
    "                bias_squared_ens += bias_squared / len(p)\n",
    "            var_ens /= len(ind)\n",
    "            bias_squared_ens /= len(ind)\n",
    "            mse = y_noise + var_ens + bias_squared_ens\n",
    "            print '{}:{}: \\t{}\\t+ {}\\t+ {}\\t= {}'.format('e', k, np.round(y_noise, 4), np.round(var_ens, 4), \n",
    "                                                              np.round(bias_squared_ens, 4), np.round(mse, 4))\n",
    "    "
   ]
  },
  {
   "cell_type": "code",
   "execution_count": 232,
   "metadata": {
    "collapsed": false,
    "scrolled": false
   },
   "outputs": [
    {
     "name": "stdout",
     "output_type": "stream",
     "text": [
      "\tnoise\t  variance\t  bias\t\t  mse\n",
      "----------------------------------------------------------------------\n",
      "ens: \t1.7887\t+ 0.0008\t+ 0.5171\t= 2.3066\n",
      "e:1: \t1.7887\t+ 0.0\t+ 0.6943\t= 2.483\n",
      "e:2: \t1.7887\t+ 0.0007\t+ 0.2951\t= 2.0844\n",
      "e:3: \t1.7887\t+ 0.0004\t+ 0.1875\t= 1.9765\n",
      "e:4: \t1.7887\t+ 0.0002\t+ 0.1369\t= 1.9258\n",
      "e:5: \t1.7887\t+ 0.0002\t+ 0.1077\t= 1.8965\n",
      "e:6: \t1.7887\t+ 0.0002\t+ 0.0885\t= 1.8774\n",
      "e:7: \t1.7887\t+ 0.0001\t+ 0.076\t= 1.8648\n",
      "e:8: \t1.7887\t+ 0.0001\t+ 0.0658\t= 1.8546\n",
      "e:9: \t1.7887\t+ 0.0001\t+ 0.0575\t= 1.8463\n"
     ]
    },
    {
     "data": {
      "image/png": "[encoded data removed]",
      "text/plain": [
       "<matplotlib.figure.Figure at 0x7fb61d9e4110>"
      ]
     },
     "metadata": {},
     "output_type": "display_data"
    }
   ],
   "source": [
    "bootstrap_linear_approximations(models=10, n_samples=40, noise=1.5)"
   ]
  },
  {
   "cell_type": "code",
   "execution_count": null,
   "metadata": {
    "collapsed": false
   },
   "outputs": [],
   "source": []
  },
  {
   "cell_type": "code",
   "execution_count": null,
   "metadata": {
    "collapsed": false
   },
   "outputs": [],
   "source": []
  },
  {
   "cell_type": "code",
   "execution_count": null,
   "metadata": {
    "collapsed": false
   },
   "outputs": [],
   "source": []
  },
  {
   "cell_type": "code",
   "execution_count": 14,
   "metadata": {
    "collapsed": true
   },
   "outputs": [],
   "source": []
  },
  {
   "cell_type": "code",
   "execution_count": 167,
   "metadata": {
    "collapsed": false
   },
   "outputs": [],
   "source": [
    "from itertools import combinations"
   ]
  },
  {
   "cell_type": "markdown",
   "metadata": {},
   "source": []
  },
  {
   "cell_type": "code",
   "execution_count": 173,
   "metadata": {
    "collapsed": false
   },
   "outputs": [
    {
     "data": {
      "text/plain": [
       "[(0, 1, 2),\n",
       " (0, 1, 3),\n",
       " (0, 1, 4),\n",
       " (0, 2, 3),\n",
       " (0, 2, 4),\n",
       " (0, 3, 4),\n",
       " (1, 2, 3),\n",
       " (1, 2, 4),\n",
       " (1, 3, 4),\n",
       " (2, 3, 4)]"
      ]
     },
     "execution_count": 173,
     "metadata": {},
     "output_type": "execute_result"
    }
   ],
   "source": [
    "[c for c in combinations(range(5), 3)]"
   ]
  },
  {
   "cell_type": "code",
   "execution_count": 174,
   "metadata": {
    "collapsed": true
   },
   "outputs": [],
   "source": [
    "x = np.array(range(10)).reshape((5, 2))"
   ]
  },
  {
   "cell_type": "code",
   "execution_count": 176,
   "metadata": {
    "collapsed": false
   },
   "outputs": [
    {
     "data": {
      "text/plain": [
       "array([[0, 1],\n",
       "       [2, 3],\n",
       "       [4, 5],\n",
       "       [6, 7],\n",
       "       [8, 9]])"
      ]
     },
     "execution_count": 176,
     "metadata": {},
     "output_type": "execute_result"
    }
   ],
   "source": [
    "x"
   ]
  },
  {
   "cell_type": "code",
   "execution_count": 192,
   "metadata": {
    "collapsed": false
   },
   "outputs": [
    {
     "data": {
      "text/plain": [
       "array([ 4.5,  5.5])"
      ]
     },
     "execution_count": 192,
     "metadata": {},
     "output_type": "execute_result"
    }
   ],
   "source": [
    "np.mean(x[[0, 2, 4, 3],], axis=0)"
   ]
  },
  {
   "cell_type": "code",
   "execution_count": 202,
   "metadata": {
    "collapsed": false
   },
   "outputs": [
    {
     "data": {
      "text/plain": [
       "[1, 4, 3]"
      ]
     },
     "execution_count": 202,
     "metadata": {},
     "output_type": "execute_result"
    }
   ],
   "source": [
    "list(np.random.choice(len(x), 3, replace=False))"
   ]
  },
  {
   "cell_type": "code",
   "execution_count": null,
   "metadata": {
    "collapsed": true
   },
   "outputs": [],
   "source": []
  }
 ],
 "metadata": {
  "kernelspec": {
   "display_name": "Python 2",
   "language": "python",
   "name": "python2"
  },
  "language_info": {
   "codemirror_mode": {
    "name": "ipython",
    "version": 2
   },
   "file_extension": ".py",
   "mimetype": "text/x-python",
   "name": "python",
   "nbconvert_exporter": "python",
   "pygments_lexer": "ipython2",
   "version": "2.7.11"
  }
 },
 "nbformat": 4,
 "nbformat_minor": 0
}
