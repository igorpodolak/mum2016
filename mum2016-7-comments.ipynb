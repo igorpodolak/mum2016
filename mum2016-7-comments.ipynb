{
 "cells": [
  {
   "cell_type": "markdown",
   "metadata": {},
   "source": [
    "# Finishing touches"
   ]
  },
  {
   "cell_type": "markdown",
   "metadata": {},
   "source": [
    "<h3 id=tocheading>Spis treści</h1>\n",
    "<div id=\"toc\"></div>"
   ]
  },
  {
   "cell_type": "code",
   "execution_count": 3,
   "metadata": {
    "collapsed": false
   },
   "outputs": [
    {
     "data": {
      "application/javascript": [
       "$.getScript('https://kmahelona.github.io/ipython_notebook_goodies/ipython_notebook_toc.js')"
      ],
      "text/plain": [
       "<IPython.core.display.Javascript object>"
      ]
     },
     "metadata": {},
     "output_type": "display_data"
    }
   ],
   "source": [
    "%%javascript\n",
    "$.getScript('https://kmahelona.github.io/ipython_notebook_goodies/ipython_notebook_toc.js')"
   ]
  },
  {
   "cell_type": "code",
   "execution_count": 4,
   "metadata": {
    "collapsed": true
   },
   "outputs": [],
   "source": [
    "# -*- coding: utf-8 -*-\n",
    "\n",
    "from __future__ import unicode_literals\n",
    "from __future__ import print_function\n",
    "import numpy as np\n",
    "import pandas as pd\n",
    "\n",
    "%matplotlib inline\n",
    "import matplotlib.pyplot as plt\n",
    "import seaborn as sns\n",
    "from mpl_toolkits.mplot3d import Axes3D\n",
    "from matplotlib import cm\n",
    "from matplotlib.ticker import LinearLocator, FormatStrFormatter\n",
    "\n",
    "from bokeh.io import gridplot, output_file, show, hplot, vplot\n",
    "from bokeh.plotting import figure, output_notebook, vplot\n",
    "from bokeh.charts import Scatter"
   ]
  },
  {
   "cell_type": "code",
   "execution_count": 5,
   "metadata": {
    "collapsed": false
   },
   "outputs": [
    {
     "data": {
      "text/html": [
       "\n",
       "    <div class=\"bk-banner\">\n",
       "        <a href=\"http://bokeh.pydata.org\" target=\"_blank\" class=\"bk-logo bk-logo-small bk-logo-notebook\"></a>\n",
       "        <span id=\"c0989962-17c3-4f3c-a04c-a8332a36536b\">Loading BokehJS ...</span>\n",
       "    </div>"
      ]
     },
     "metadata": {},
     "output_type": "display_data"
    },
    {
     "data": {
      "application/javascript": [
       "\n",
       "(function(global) {\n",
       "  function now() {\n",
       "    return new Date();\n",
       "  }\n",
       "\n",
       "  if (typeof (window._bokeh_onload_callbacks) === \"undefined\") {\n",
       "    window._bokeh_onload_callbacks = [];\n",
       "  }\n",
       "\n",
       "  function run_callbacks() {\n",
       "    window._bokeh_onload_callbacks.forEach(function(callback) { callback() });\n",
       "    delete window._bokeh_onload_callbacks\n",
       "    console.info(\"Bokeh: all callbacks have finished\");\n",
       "  }\n",
       "\n",
       "  function load_libs(js_urls, callback) {\n",
       "    window._bokeh_onload_callbacks.push(callback);\n",
       "    if (window._bokeh_is_loading > 0) {\n",
       "      console.log(\"Bokeh: BokehJS is being loaded, scheduling callback at\", now());\n",
       "      return null;\n",
       "    }\n",
       "    if (js_urls == null || js_urls.length === 0) {\n",
       "      run_callbacks();\n",
       "      return null;\n",
       "    }\n",
       "    console.log(\"Bokeh: BokehJS not loaded, scheduling load and callback at\", now());\n",
       "    window._bokeh_is_loading = js_urls.length;\n",
       "    for (var i = 0; i < js_urls.length; i++) {\n",
       "      var url = js_urls[i];\n",
       "      var s = document.createElement('script');\n",
       "      s.src = url;\n",
       "      s.async = false;\n",
       "      s.onreadystatechange = s.onload = function() {\n",
       "        window._bokeh_is_loading--;\n",
       "        if (window._bokeh_is_loading === 0) {\n",
       "          console.log(\"Bokeh: all BokehJS libraries loaded\");\n",
       "          run_callbacks()\n",
       "        }\n",
       "      };\n",
       "      s.onerror = function() {\n",
       "        console.warn(\"failed to load library \" + url);\n",
       "      };\n",
       "      console.log(\"Bokeh: injecting script tag for BokehJS library: \", url);\n",
       "      document.getElementsByTagName(\"head\")[0].appendChild(s);\n",
       "    }\n",
       "  };\n",
       "\n",
       "  var js_urls = ['https://cdn.pydata.org/bokeh/release/bokeh-0.11.1.min.js', 'https://cdn.pydata.org/bokeh/release/bokeh-widgets-0.11.1.min.js', 'https://cdn.pydata.org/bokeh/release/bokeh-compiler-0.11.1.min.js'];\n",
       "\n",
       "  var inline_js = [\n",
       "    function(Bokeh) {\n",
       "      Bokeh.set_log_level(\"info\");\n",
       "    },\n",
       "    \n",
       "    function(Bokeh) {\n",
       "      Bokeh.$(\"#c0989962-17c3-4f3c-a04c-a8332a36536b\").text(\"BokehJS successfully loaded\");\n",
       "    },\n",
       "    function(Bokeh) {\n",
       "      console.log(\"Bokeh: injecting CSS: https://cdn.pydata.org/bokeh/release/bokeh-0.11.1.min.css\");\n",
       "      Bokeh.embed.inject_css(\"https://cdn.pydata.org/bokeh/release/bokeh-0.11.1.min.css\");\n",
       "      console.log(\"Bokeh: injecting CSS: https://cdn.pydata.org/bokeh/release/bokeh-widgets-0.11.1.min.css\");\n",
       "      Bokeh.embed.inject_css(\"https://cdn.pydata.org/bokeh/release/bokeh-widgets-0.11.1.min.css\");\n",
       "    }\n",
       "  ];\n",
       "\n",
       "  function run_inline_js() {\n",
       "    for (var i = 0; i < inline_js.length; i++) {\n",
       "      inline_js[i](window.Bokeh);\n",
       "    }\n",
       "  }\n",
       "\n",
       "  if (window._bokeh_is_loading === 0) {\n",
       "    console.log(\"Bokeh: BokehJS loaded, going straight to plotting\");\n",
       "    run_inline_js();\n",
       "  } else {\n",
       "    load_libs(js_urls, function() {\n",
       "      console.log(\"Bokeh: BokehJS plotting callback run at\", now());\n",
       "      run_inline_js();\n",
       "    });\n",
       "  }\n",
       "}(this));"
      ]
     },
     "metadata": {},
     "output_type": "display_data"
    }
   ],
   "source": [
    "output_notebook()"
   ]
  },
  {
   "cell_type": "markdown",
   "metadata": {},
   "source": [
    "## Egzamin\n",
    "* Egzamin odbędzie się 21 czerwca 2016 (wtorek)\n",
    "  * godzina: 12.00-14.00\n",
    "  * miejsce: sale 1177 i 1094\n",
    "  * __proszę o punktualne przybycie: o 14.00 zaczyna się kolejny egzamin prof. Zaionca!!!__\n",
    "  * egzamin będzie miał podobną postać do kolokwium"
   ]
  },
  {
   "cell_type": "markdown",
   "metadata": {},
   "source": [
    "# Materiał tego roku"
   ]
  },
  {
   "cell_type": "markdown",
   "metadata": {},
   "source": [
    "## Modele regresji\n",
    "* zadanie regresji liniowej\n",
    "* najczęstszym modelem dla regresji jest __regresja liniowa__ $\\displaystyle \\hat{y}=\\theta^Tx$\n",
    "  * model \n",
    "  $$\\hat{y}=\\sum_i\\theta_i\\phi(x_i)$$\n",
    "  gdzie $\\phi(x)$ są funkcjami bazowymi, jest także modelem liniowym\n",
    "  * podstawowym problemem jest zdefiniowanie __funkcji kosztu__\n",
    "  * wybór sumy kwadratów błędów prowadzi do metody najmniejszych kwadratów (least squares)\n",
    "* maximum likelihood \n",
    "\n",
    "\n",
    "* możliwym podejściem do rozwiązania są metody gradientowe\n",
    "  * funkcja kosztu musi być różniczkowalna\n",
    "  * metoda największego spadku gradientu\n",
    "  * rozróżnienie między metodami stochastycznymi a metodami typu batch/mini-batc\n",
    "  \n",
    "  \n",
    "* __maximum likelihood__: alternatywnie do LS szukamy takiego zestawu parametrów $\\theta$, że mając zbiór przykładów $X$ prawdopodobieństwo tego zdarzenia jest zmaksymalizowane\n",
    "$$\\hat{\\theta}_{ML}=\\underset{\\theta\\in\\mathcal{A}\\subset\\mathbb{R}^K}{\\arg\\max}p(X;\\theta)$$\n",
    "  * utworzony model będzie generował przykłady zgodne z rozkładem prawdopodobieństwa $X$\n",
    "  * logarytm jest funkcją rosnącą, więc można go użyć uzysukjąc __log-likelihood__\n",
    "    * to da wygodne rozwiązania poprzez zamianę iloczynów na sumy\n",
    "  * ML jest spójny i dla dużych liczb przykładów $\\hat{\\theta}_{ML}$ zbiega do optymalnego"
   ]
  },
  {
   "cell_type": "markdown",
   "metadata": {},
   "source": [
    "### Modele parametryczne / nieparametryczne\n",
    "* modele liniowe regresji są typowym przykładem modeli __parametrycznych__\n",
    "  * modele parametryczne relacja między zmiennymi niezależnymi (wejściowymi) a zależnymi (modelowanymi wyjściowymi wartościami) jest opisywana poprzez zbiór nieznanych parametrów, których liczba jest __ustalona__\n",
    "  * w modelach __nieparametrycznych__ parametry mogą być także używane, jednak ich liczba zależy od zbioru danych\n",
    "    * typowym prykładem metody k-sąsiadów"
   ]
  },
  {
   "cell_type": "markdown",
   "metadata": {},
   "source": [
    "### Regularyzacja\n",
    "* wprowadzona po raz pierwszy dla zapewnienia istnienia rozwiązania\n",
    "* ogranicza dowolność modelu\n",
    "  * reguła brzytwy Ockhama by wybierać najprostszy model, który w wystarczający sposób tłumaczy dane\n",
    "* metody L1, L2, ElasticNet"
   ]
  },
  {
   "cell_type": "markdown",
   "metadata": {},
   "source": [
    "## Metody klasyfikacji\n",
    "* różnice między zadaniami klasyfikacji i regresji\n",
    "  * wiele z modeli regresji można zastosować bezpośrednio do klasyfikacji \n",
    "  * zwykle jedna rozwiązania powinny być całkiem różne\n",
    "  "
   ]
  },
  {
   "cell_type": "markdown",
   "metadata": {},
   "source": [
    "### Zagadnienia\n",
    "* reguła klasyfikacja Bayesowska jest wyborem rozwiązania o największym prawdopodobieństwie _a posteriori_\n",
    "* pojęcie ryzyka i kosztu\n",
    "* problem liniowo separowalny\n",
    "* modele liniowe\n",
    "* model regresji logistycznej (to model klasyfikacji!!)\n",
    "* entropia krzyżowa jako koszt dla problemów klasyfikacji\n",
    "* wyznacznik Fishera\n",
    "* metoda najbliższych sąsiadów\n",
    "  * w jaki sposób sumować wyniki z najbliższych sąsiadów\n",
    "  * miary odległości - wybór zależny od rozwiązywanego problemu\n",
    "* drzewa decyzyjne\n",
    "  * w jaki sposób wybierać testy\n",
    "  * lasy drzew\n",
    "  * losowanie bootstrap\n",
    "  \n",
    "* ensemble learning\n",
    "  * bagging\n",
    "  * stacking\n",
    "  * bumping\n",
    "  * modele addytywne\n",
    "    * ada boost \n",
    "      * funkcja kosztu\n",
    "  * wysoka wydajność"
   ]
  },
  {
   "cell_type": "markdown",
   "metadata": {},
   "source": [
    "## Wybór modelu"
   ]
  },
  {
   "cell_type": "markdown",
   "metadata": {},
   "source": [
    "### pojęcie błędu i generalizacji\n",
    "* bias i wariancja - podział błędu\n",
    "* generalizacja\n",
    "* walidacja krzyżowa\n",
    "* wybór modelu\n",
    "  * podwójna walidacja krzyżowa\n",
    "* ocena jakości\n",
    "  * propozycje błędów\n",
    "  * różnice w miarach błędów dla różnych zagadnień\n",
    "  * Receiver Operating Characteristic i miary związane"
   ]
  },
  {
   "cell_type": "markdown",
   "metadata": {
    "collapsed": true
   },
   "source": [
    "## Metody analizy skupisk\n",
    "* pojęcie uczenia nienadzorowanego\n",
    "* odległość między obiektami\n",
    "* k-means i k-medoid\n",
    "* ocena właściwej liczby klastrów\n",
    "* ocena poprawności klastrowania\n",
    "* klastrowanie hierarchiczne i sposoby łączenia\n",
    "* algorytmy samo-organizujące się\n",
    "  * reguła Hebba\n",
    "* manifold learning\n",
    "  * representation learning\n",
    "* reguły asocjacyjne"
   ]
  },
  {
   "cell_type": "markdown",
   "metadata": {},
   "source": [
    "## Metody kernelowe\n",
    "* twierdzenie Covera\n",
    "  * złożoność modelu a zdolność do rozdzialania\n",
    "* klasyfikator o maksymalnym marginesie\n",
    "  * optymalna hiperpłaszczyzna rozdzielająca\n",
    "  * zadanie wyszukania optymalnej hiperpłaszczyzny\n",
    "* Perceptron\n",
    "* Problem pierwotny i problem dualny\n",
    "* funkcje jądra\n",
    "rozwiązanie problemu regresji"
   ]
  },
  {
   "cell_type": "markdown",
   "metadata": {},
   "source": [
    "# Na co zabrakło nam czasu?\n",
    "* regresja\n",
    "  * więcej algorytmów regresji liniowej\n",
    "  * modele nieliniowe regresji\n",
    "  * zaawansowane problemy regularyzacji\n",
    "* klasyfikacja\n",
    "  * wiele nieliniowych modeli klasyfikacji\n",
    "* uczenie nienadzorowane\n",
    "  * modele Expectation-Maximization EM\n",
    "  * metody próbkowania: metropolis, Gibbs\n",
    "* metody Bayesowskie\n",
    "* modele grafowe\n",
    "* redukcja wymiarowości\n",
    "* preprocessing danych\n",
    "* sieci neuronowe\n",
    "  * proste modele warstwowe\n",
    "  * modele rekurencyjne\n",
    "  * deep learning"
   ]
  }
 ],
 "metadata": {
  "kernelspec": {
   "display_name": "Python 2",
   "language": "python",
   "name": "python2"
  },
  "language_info": {
   "codemirror_mode": {
    "name": "ipython",
    "version": 2
   },
   "file_extension": ".py",
   "mimetype": "text/x-python",
   "name": "python",
   "nbconvert_exporter": "python",
   "pygments_lexer": "ipython2",
   "version": "2.7.11"
  }
 },
 "nbformat": 4,
 "nbformat_minor": 0
}
